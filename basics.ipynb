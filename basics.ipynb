{
 "cells": [
  {
   "cell_type": "code",
   "execution_count": 1,
   "id": "b5699a1d-2b87-483b-867d-faa9ab4134f0",
   "metadata": {},
   "outputs": [],
   "source": [
    "import spacy\n",
    "import nltk"
   ]
  },
  {
   "cell_type": "code",
   "execution_count": 5,
   "id": "50e25954-7b46-4e9b-be3c-9d03b7c459b9",
   "metadata": {},
   "outputs": [],
   "source": [
    "nlp = spacy.load(\"en_core_web_sm\")\n",
    "\n",
    "doc = nlp(\"I love linux. it is a great operating system. i love the open source community\")"
   ]
  },
  {
   "cell_type": "code",
   "execution_count": 6,
   "id": "d8f7b250-9643-41c5-9477-71520d06b7b8",
   "metadata": {},
   "outputs": [
    {
     "name": "stdout",
     "output_type": "stream",
     "text": [
      "I love linux.\n",
      "it is a great operating system.\n",
      "i love the open source community\n"
     ]
    }
   ],
   "source": [
    "for sentence in doc.sents:\n",
    "    print(sentence)"
   ]
  },
  {
   "cell_type": "code",
   "execution_count": 7,
   "id": "1d3126cc-04d9-4319-8796-6c2e9e56f14e",
   "metadata": {},
   "outputs": [],
   "source": [
    "import nltk"
   ]
  },
  {
   "cell_type": "code",
   "execution_count": 8,
   "id": "c8b5acdf-5768-4bd5-8db2-ca63a7939cdc",
   "metadata": {},
   "outputs": [],
   "source": [
    "from nltk.tokenize import sent_tokenize"
   ]
  },
  {
   "cell_type": "code",
   "execution_count": 12,
   "id": "db3ac508-f00e-492c-9c59-97fe768255c0",
   "metadata": {},
   "outputs": [
    {
     "name": "stdout",
     "output_type": "stream",
     "text": [
      "showing info https://raw.githubusercontent.com/nltk/nltk_data/gh-pages/index.xml\n"
     ]
    },
    {
     "data": {
      "text/plain": [
       "True"
      ]
     },
     "execution_count": 12,
     "metadata": {},
     "output_type": "execute_result"
    }
   ],
   "source": [
    "nltk.download()"
   ]
  },
  {
   "cell_type": "code",
   "execution_count": 11,
   "id": "252dbe65-40b4-445d-9e18-b856c8d2497e",
   "metadata": {},
   "outputs": [
    {
     "data": {
      "text/plain": [
       "['I love linux.',\n",
       " 'it is a great operating system.',\n",
       " 'i love the open source community']"
      ]
     },
     "execution_count": 11,
     "metadata": {},
     "output_type": "execute_result"
    }
   ],
   "source": [
    "sent_tokenize(\"I love linux. it is a great operating system. i love the open source community\")"
   ]
  },
  {
   "cell_type": "code",
   "execution_count": 9,
   "id": "fa362fe3-33ac-4c51-ad55-107296743c87",
   "metadata": {},
   "outputs": [],
   "source": [
    "nlp = spacy.blank(\"en\")"
   ]
  },
  {
   "cell_type": "code",
   "execution_count": 14,
   "id": "03204e9e-52c0-499c-ba1b-1d9a8f362c33",
   "metadata": {},
   "outputs": [],
   "source": [
    "doc = nlp(\"Dr. strange loves pav bhaji of mumbai. it is really cheap only ₹2\")"
   ]
  },
  {
   "cell_type": "code",
   "execution_count": 15,
   "id": "1780f252-e2aa-4008-bb4e-948badf4613a",
   "metadata": {},
   "outputs": [
    {
     "name": "stdout",
     "output_type": "stream",
     "text": [
      "Dr.\n",
      "strange\n",
      "loves\n",
      "pav\n",
      "bhaji\n",
      "of\n",
      "mumbai\n",
      ".\n",
      "it\n",
      "is\n",
      "really\n",
      "cheap\n",
      "only\n",
      "₹\n",
      "2\n"
     ]
    }
   ],
   "source": [
    "for token in doc:\n",
    "    print(token)"
   ]
  },
  {
   "cell_type": "code",
   "execution_count": 16,
   "id": "5599b32f-0357-4d83-bf3e-c14dedfe1c1b",
   "metadata": {},
   "outputs": [
    {
     "data": {
      "text/plain": [
       "spacy.lang.en.English"
      ]
     },
     "execution_count": 16,
     "metadata": {},
     "output_type": "execute_result"
    }
   ],
   "source": [
    "type(nlp)"
   ]
  },
  {
   "cell_type": "code",
   "execution_count": 28,
   "id": "d47bec87-df45-4658-9df5-abc428e93c77",
   "metadata": {},
   "outputs": [],
   "source": [
    "with open('data.txt') as f:\n",
    "    text = f.readlines()"
   ]
  },
  {
   "cell_type": "code",
   "execution_count": 29,
   "id": "c5647015-15ea-4e30-b871-21bf7d7e237f",
   "metadata": {},
   "outputs": [
    {
     "data": {
      "text/plain": [
       "['Dayton high school, 8th grade students information\\n',\n",
       " '==================================================\\n',\n",
       " ' \\\\n\\n',\n",
       " ' Name\\\\tbirth day   \\\\temail\\\\n\\n',\n",
       " ' -----\\\\t------------\\\\t------\\\\n\\n',\n",
       " ' Virat   5 June, 1882    virat@kohli.com\\n',\n",
       " ' Maria\\\\t12 April, 2001  maria@sharapova.com\\n',\n",
       " ' Serena  24 June, 1998   serena@williams.com\\n',\n",
       " ' Joe      1 May, 1997    joe@root.com\\n',\n",
       " ' \\\\n\\n',\n",
       " ' \\\\n\\n',\n",
       " ' \\\\n']"
      ]
     },
     "execution_count": 29,
     "metadata": {},
     "output_type": "execute_result"
    }
   ],
   "source": [
    "text"
   ]
  },
  {
   "cell_type": "code",
   "execution_count": 30,
   "id": "7e4d92af-21e3-4d7a-be8f-4a93a6c9136c",
   "metadata": {},
   "outputs": [],
   "source": [
    "text = \" \".join(text)"
   ]
  },
  {
   "cell_type": "code",
   "execution_count": 31,
   "id": "fabe8383-aba9-4f74-92dd-e8af4caeabcd",
   "metadata": {},
   "outputs": [
    {
     "data": {
      "text/plain": [
       "'Dayton high school, 8th grade students information\\n ==================================================\\n  \\\\n\\n  Name\\\\tbirth day   \\\\temail\\\\n\\n  -----\\\\t------------\\\\t------\\\\n\\n  Virat   5 June, 1882    virat@kohli.com\\n  Maria\\\\t12 April, 2001  maria@sharapova.com\\n  Serena  24 June, 1998   serena@williams.com\\n  Joe      1 May, 1997    joe@root.com\\n  \\\\n\\n  \\\\n\\n  \\\\n'"
      ]
     },
     "execution_count": 31,
     "metadata": {},
     "output_type": "execute_result"
    }
   ],
   "source": [
    "text"
   ]
  },
  {
   "cell_type": "code",
   "execution_count": 32,
   "id": "25aea50f-e1f8-489a-9155-aa4422c7d1e9",
   "metadata": {},
   "outputs": [],
   "source": [
    "doc = nlp(text)"
   ]
  },
  {
   "cell_type": "code",
   "execution_count": 33,
   "id": "7a4c2b93-341f-4cd9-984c-bd10d0ddf84f",
   "metadata": {},
   "outputs": [],
   "source": [
    "emails = []\n",
    "for token in doc:\n",
    "    if token.like_email:\n",
    "        emails.append(token.text)"
   ]
  },
  {
   "cell_type": "code",
   "execution_count": 34,
   "id": "2c9dc6b2-fd3c-4823-b160-6d61541cf1fa",
   "metadata": {},
   "outputs": [
    {
     "data": {
      "text/plain": [
       "['virat@kohli.com',\n",
       " 'maria@sharapova.com',\n",
       " 'serena@williams.com',\n",
       " 'joe@root.com']"
      ]
     },
     "execution_count": 34,
     "metadata": {},
     "output_type": "execute_result"
    }
   ],
   "source": [
    "emails"
   ]
  },
  {
   "cell_type": "code",
   "execution_count": 38,
   "id": "34e36139-9807-4f34-b88f-c5978f0b6a0c",
   "metadata": {},
   "outputs": [],
   "source": [
    "nlp = spacy.blank(\"hi\")"
   ]
  },
  {
   "cell_type": "code",
   "execution_count": 39,
   "id": "38ee9327-73b4-4896-914e-f17fd8159600",
   "metadata": {},
   "outputs": [],
   "source": [
    "doc = nlp(\"में जहाँ भी जाता हु अपनी गर्लफ्रेंड की तस्वीर साथ रखता हु \")"
   ]
  },
  {
   "cell_type": "code",
   "execution_count": 40,
   "id": "ba630f58-dcf4-44c2-b431-815205dcd9c6",
   "metadata": {},
   "outputs": [
    {
     "name": "stdout",
     "output_type": "stream",
     "text": [
      "में\n",
      "जहाँ\n",
      "भी\n",
      "जाता\n",
      "हु\n",
      "अपनी\n",
      "गर्लफ्रेंड\n",
      "की\n",
      "तस्वीर\n",
      "साथ\n",
      "रखता\n",
      "हु\n"
     ]
    }
   ],
   "source": [
    "for token in doc:\n",
    "    print(token)"
   ]
  },
  {
   "cell_type": "code",
   "execution_count": 41,
   "id": "60e5857e-e08c-4d19-a642-9effcc3d805e",
   "metadata": {},
   "outputs": [],
   "source": [
    "nlp = spacy.blank(\"en\")"
   ]
  },
  {
   "cell_type": "code",
   "execution_count": 48,
   "id": "79d46080-6011-45e0-8163-5b0f0f7266e6",
   "metadata": {},
   "outputs": [],
   "source": [
    "doc = nlp(\"gimme double cheese extra large pizza\")"
   ]
  },
  {
   "cell_type": "code",
   "execution_count": 43,
   "id": "0d6c1b6a-ab2f-46d0-99cf-fb3027c707c8",
   "metadata": {},
   "outputs": [],
   "source": [
    "tokens = [token.text for token in doc]"
   ]
  },
  {
   "cell_type": "code",
   "execution_count": 44,
   "id": "467ad456-7ae9-4fda-aa79-fd2f66b19705",
   "metadata": {},
   "outputs": [
    {
     "data": {
      "text/plain": [
       "['gimme', 'double', 'cheese', 'extra', 'large', 'pizza']"
      ]
     },
     "execution_count": 44,
     "metadata": {},
     "output_type": "execute_result"
    }
   ],
   "source": [
    "tokens"
   ]
  },
  {
   "cell_type": "code",
   "execution_count": 45,
   "id": "2e3cb291-720f-4471-8369-13235a073b0c",
   "metadata": {},
   "outputs": [],
   "source": [
    "from spacy.symbols import ORTH"
   ]
  },
  {
   "cell_type": "code",
   "execution_count": 47,
   "id": "72be0fc2-be2b-40d5-beb4-c17668f4f325",
   "metadata": {},
   "outputs": [],
   "source": [
    "nlp.tokenizer.add_special_case(\"gimme\", [{ORTH: \"gim\"},{ORTH: \"me\"}])"
   ]
  },
  {
   "cell_type": "code",
   "execution_count": 49,
   "id": "78ed10a4-415d-446d-8ddc-4f8e792bf7c2",
   "metadata": {},
   "outputs": [],
   "source": [
    "doc = nlp(\"gimme double cheese extra large pizza\")"
   ]
  },
  {
   "cell_type": "code",
   "execution_count": 50,
   "id": "8135ce95-4092-4215-a267-794962c25055",
   "metadata": {},
   "outputs": [],
   "source": [
    "tokens = [token.text for token in doc]"
   ]
  },
  {
   "cell_type": "code",
   "execution_count": 51,
   "id": "d5db8c76-e050-49f5-8ca9-48b72e967873",
   "metadata": {},
   "outputs": [
    {
     "data": {
      "text/plain": [
       "['gim', 'me', 'double', 'cheese', 'extra', 'large', 'pizza']"
      ]
     },
     "execution_count": 51,
     "metadata": {},
     "output_type": "execute_result"
    }
   ],
   "source": [
    "tokens"
   ]
  },
  {
   "cell_type": "code",
   "execution_count": 52,
   "id": "e1f7570f-058b-43ce-bd90-d22f5a4cd929",
   "metadata": {},
   "outputs": [],
   "source": [
    "text='''\n",
    "Look for data to help you address the question. Governments are good\n",
    "sources because data from public research is often freely available. Good\n",
    "places to start include http://www.data.gov/, and http://www.science.\n",
    "gov/, and in the United Kingdom, http://data.gov.uk/.\n",
    "Two of my favorite data sets are the General Social Survey at http://www3.norc.org/gss+website/, \n",
    "and the European Social Survey at http://www.europeansocialsurvey.org/.\n",
    "'''"
   ]
  },
  {
   "cell_type": "code",
   "execution_count": 53,
   "id": "3b54ec61-29dd-4db2-87e6-4dd3af0f64f0",
   "metadata": {},
   "outputs": [],
   "source": [
    "doc = nlp(text)"
   ]
  },
  {
   "cell_type": "code",
   "execution_count": 54,
   "id": "377e5691-2e8e-42ad-a5fd-45be57139db2",
   "metadata": {},
   "outputs": [],
   "source": [
    "url = []\n",
    "for token in doc:\n",
    "    if token.like_url:\n",
    "        url.append(token.text)"
   ]
  },
  {
   "cell_type": "code",
   "execution_count": 55,
   "id": "8add0d5f-ee60-41d7-b700-59752969b86e",
   "metadata": {},
   "outputs": [
    {
     "data": {
      "text/plain": [
       "['http://www.data.gov/',\n",
       " 'http://www.science',\n",
       " 'http://data.gov.uk/.',\n",
       " 'http://www3.norc.org/gss+website/',\n",
       " 'http://www.europeansocialsurvey.org/.']"
      ]
     },
     "execution_count": 55,
     "metadata": {},
     "output_type": "execute_result"
    }
   ],
   "source": [
    "url"
   ]
  },
  {
   "cell_type": "code",
   "execution_count": 60,
   "id": "1899a837-2525-4504-8c10-052cf5539d03",
   "metadata": {},
   "outputs": [],
   "source": [
    "transactions = \"Tony gave two $ to Peter, Bruce gave 500 € to Steve\""
   ]
  },
  {
   "cell_type": "code",
   "execution_count": 61,
   "id": "efc09e7d-4678-4087-afde-97d821f47f25",
   "metadata": {},
   "outputs": [],
   "source": [
    "doc = nlp(transactions)"
   ]
  },
  {
   "cell_type": "code",
   "execution_count": 66,
   "id": "3ccc77b3-4a49-43fc-b83b-577266090f4d",
   "metadata": {},
   "outputs": [],
   "source": [
    "cur = []\n",
    "for i in range(len(doc)):\n",
    "    if doc[i].is_currency:\n",
    "        cur.append(f\"{doc[i-1]} {doc[i]}\")"
   ]
  },
  {
   "cell_type": "code",
   "execution_count": 67,
   "id": "c7bdacc6-d501-4fca-870c-da1ab8318d34",
   "metadata": {},
   "outputs": [
    {
     "data": {
      "text/plain": [
       "['two $', '500 €']"
      ]
     },
     "execution_count": 67,
     "metadata": {},
     "output_type": "execute_result"
    }
   ],
   "source": [
    "cur"
   ]
  },
  {
   "cell_type": "code",
   "execution_count": 68,
   "id": "ecf5f88c-a18c-43bc-aa78-e96eaaed6964",
   "metadata": {},
   "outputs": [
    {
     "data": {
      "text/plain": [
       "[]"
      ]
     },
     "execution_count": 68,
     "metadata": {},
     "output_type": "execute_result"
    }
   ],
   "source": [
    "nlp.pipe_names"
   ]
  },
  {
   "cell_type": "code",
   "execution_count": 71,
   "id": "1a99b111-d577-4a20-9bbb-afe34483902b",
   "metadata": {},
   "outputs": [],
   "source": [
    "nlp = spacy.load(\"en_core_web_trf\")"
   ]
  },
  {
   "cell_type": "code",
   "execution_count": 72,
   "id": "5c91be1f-13ed-425a-9254-713b827f8b4d",
   "metadata": {},
   "outputs": [
    {
     "data": {
      "text/plain": [
       "['transformer', 'tagger', 'parser', 'attribute_ruler', 'lemmatizer', 'ner']"
      ]
     },
     "execution_count": 72,
     "metadata": {},
     "output_type": "execute_result"
    }
   ],
   "source": [
    "nlp.pipe_names"
   ]
  },
  {
   "cell_type": "code",
   "execution_count": 73,
   "id": "361a1d29-d924-433f-9bfd-1de2dfcd1801",
   "metadata": {},
   "outputs": [
    {
     "data": {
      "text/plain": [
       "[('transformer',\n",
       "  <spacy_curated_transformers.pipeline.transformer.CuratedTransformer at 0x15904d769f0>),\n",
       " ('tagger', <spacy.pipeline.tagger.Tagger at 0x15905776f90>),\n",
       " ('parser', <spacy.pipeline.dep_parser.DependencyParser at 0x1590585bdf0>),\n",
       " ('attribute_ruler',\n",
       "  <spacy.pipeline.attributeruler.AttributeRuler at 0x1590514ffd0>),\n",
       " ('lemmatizer', <spacy.lang.en.lemmatizer.EnglishLemmatizer at 0x15904f15d50>),\n",
       " ('ner', <spacy.pipeline.ner.EntityRecognizer at 0x159046aa6c0>)]"
      ]
     },
     "execution_count": 73,
     "metadata": {},
     "output_type": "execute_result"
    }
   ],
   "source": [
    "nlp.pipeline"
   ]
  },
  {
   "cell_type": "code",
   "execution_count": 74,
   "id": "0507ad3a-33df-4965-bdde-267c78a7f044",
   "metadata": {},
   "outputs": [],
   "source": [
    "doc = nlp(\"Captain America ate a big burger of ₹100. Then he said he can do this all day\")"
   ]
  },
  {
   "cell_type": "code",
   "execution_count": 75,
   "id": "f19a7c3c-3848-4e18-a52f-dbf75d813824",
   "metadata": {},
   "outputs": [
    {
     "name": "stdout",
     "output_type": "stream",
     "text": [
      "Captain  |  PROPN  |  Captain\n",
      "America  |  PROPN  |  America\n",
      "ate  |  VERB  |  eat\n",
      "a  |  DET  |  a\n",
      "big  |  ADJ  |  big\n",
      "burger  |  NOUN  |  burger\n",
      "of  |  ADP  |  of\n",
      "₹  |  SYM  |  ₹\n",
      "100  |  NUM  |  100\n",
      ".  |  PUNCT  |  .\n",
      "Then  |  ADV  |  then\n",
      "he  |  PRON  |  he\n",
      "said  |  VERB  |  say\n",
      "he  |  PRON  |  he\n",
      "can  |  AUX  |  can\n",
      "do  |  VERB  |  do\n",
      "this  |  PRON  |  this\n",
      "all  |  DET  |  all\n",
      "day  |  NOUN  |  day\n"
     ]
    }
   ],
   "source": [
    "for token in doc:\n",
    "    print(token, \" | \", token.pos_, \" | \", token.lemma_)"
   ]
  },
  {
   "cell_type": "code",
   "execution_count": 76,
   "id": "198b9ddf-8da0-4358-abe3-6417d4874f2d",
   "metadata": {},
   "outputs": [],
   "source": [
    "doc = nlp(\"Tesla INC is going to acquire twitter for $45 billion\")"
   ]
  },
  {
   "cell_type": "code",
   "execution_count": 77,
   "id": "e232d1fd-7550-4cb6-bbf0-0c41e24c150b",
   "metadata": {},
   "outputs": [
    {
     "name": "stdout",
     "output_type": "stream",
     "text": [
      "Tesla INC  |  ORG  |  Companies, agencies, institutions, etc.\n",
      "twitter  |  ORG  |  Companies, agencies, institutions, etc.\n",
      "$45 billion  |  MONEY  |  Monetary values, including unit\n"
     ]
    }
   ],
   "source": [
    "for ent in doc.ents:\n",
    "    print(ent.text, \" | \", ent.label_, \" | \", spacy.explain(ent.label_))"
   ]
  },
  {
   "cell_type": "code",
   "execution_count": 78,
   "id": "70fef9a8-112e-419a-b49e-9d4ea1cd635f",
   "metadata": {},
   "outputs": [],
   "source": [
    "from spacy import displacy"
   ]
  },
  {
   "cell_type": "code",
   "execution_count": 79,
   "id": "ec988c2a-2f21-4dce-8e70-32e3a1be9553",
   "metadata": {},
   "outputs": [
    {
     "data": {
      "text/html": [
       "<span class=\"tex2jax_ignore\"><div class=\"entities\" style=\"line-height: 2.5; direction: ltr\">\n",
       "<mark class=\"entity\" style=\"background: #7aecec; padding: 0.45em 0.6em; margin: 0 0.25em; line-height: 1; border-radius: 0.35em;\">\n",
       "    Tesla INC\n",
       "    <span style=\"font-size: 0.8em; font-weight: bold; line-height: 1; border-radius: 0.35em; vertical-align: middle; margin-left: 0.5rem\">ORG</span>\n",
       "</mark>\n",
       " is going to acquire \n",
       "<mark class=\"entity\" style=\"background: #7aecec; padding: 0.45em 0.6em; margin: 0 0.25em; line-height: 1; border-radius: 0.35em;\">\n",
       "    twitter\n",
       "    <span style=\"font-size: 0.8em; font-weight: bold; line-height: 1; border-radius: 0.35em; vertical-align: middle; margin-left: 0.5rem\">ORG</span>\n",
       "</mark>\n",
       " for \n",
       "<mark class=\"entity\" style=\"background: #e4e7d2; padding: 0.45em 0.6em; margin: 0 0.25em; line-height: 1; border-radius: 0.35em;\">\n",
       "    $45 billion\n",
       "    <span style=\"font-size: 0.8em; font-weight: bold; line-height: 1; border-radius: 0.35em; vertical-align: middle; margin-left: 0.5rem\">MONEY</span>\n",
       "</mark>\n",
       "</div></span>"
      ],
      "text/plain": [
       "<IPython.core.display.HTML object>"
      ]
     },
     "metadata": {},
     "output_type": "display_data"
    }
   ],
   "source": [
    "displacy.render(doc, style='ent')"
   ]
  },
  {
   "cell_type": "code",
   "execution_count": 2,
   "id": "1cd63234-dfa9-4dfe-8f24-153bc6955cdf",
   "metadata": {},
   "outputs": [],
   "source": [
    "from nltk.stem import PorterStemmer\n",
    "stemmer = PorterStemmer()"
   ]
  },
  {
   "cell_type": "code",
   "execution_count": 3,
   "id": "194f9eb1-17bf-425b-be1d-56f363017007",
   "metadata": {},
   "outputs": [],
   "source": [
    "words = ['eating', 'eats', 'eat', 'ate', 'adjustable', 'rafting', 'ability', 'meeting']"
   ]
  },
  {
   "cell_type": "code",
   "execution_count": 4,
   "id": "6b1f6cf7-aeae-41b3-99b3-7dfb1c2ebb23",
   "metadata": {},
   "outputs": [
    {
     "name": "stdout",
     "output_type": "stream",
     "text": [
      "eating  |  eat\n",
      "eats  |  eat\n",
      "eat  |  eat\n",
      "ate  |  ate\n",
      "adjustable  |  adjust\n",
      "rafting  |  raft\n",
      "ability  |  abil\n",
      "meeting  |  meet\n"
     ]
    }
   ],
   "source": [
    "for word in words:\n",
    "    print(word, \" | \",  stemmer.stem(word))"
   ]
  },
  {
   "cell_type": "code",
   "execution_count": 5,
   "id": "4c8e2d22-b98b-4c7d-a016-f9880ef1c3e3",
   "metadata": {},
   "outputs": [],
   "source": [
    "nlp = spacy.load(\"en_core_web_sm\")"
   ]
  },
  {
   "cell_type": "code",
   "execution_count": 6,
   "id": "3a2bcdc5-f628-4c60-9c24-adc954fa869e",
   "metadata": {},
   "outputs": [
    {
     "name": "stdout",
     "output_type": "stream",
     "text": [
      "eating  |  eat\n",
      "eats  |  eat\n",
      "eat  |  eat\n",
      "ate  |  eat\n",
      "adjustable  |  adjustable\n",
      "rafting  |  raft\n",
      "ability  |  ability\n",
      "meeting  |  meeting\n",
      "better  |  well\n"
     ]
    }
   ],
   "source": [
    "doc = nlp(\"Mando talked for 3 hours although talking isn't his thing\")\n",
    "doc = nlp(\"eating eats eat ate adjustable rafting ability meeting better\")\n",
    "for token in doc:\n",
    "    print(token, \" | \", token.lemma_)"
   ]
  },
  {
   "cell_type": "code",
   "execution_count": 7,
   "id": "d920a54a-0e44-4474-b4c5-0b2f099ad265",
   "metadata": {},
   "outputs": [
    {
     "data": {
      "text/plain": [
       "['tok2vec', 'tagger', 'parser', 'attribute_ruler', 'lemmatizer', 'ner']"
      ]
     },
     "execution_count": 7,
     "metadata": {},
     "output_type": "execute_result"
    }
   ],
   "source": [
    "nlp.pipe_names"
   ]
  },
  {
   "cell_type": "code",
   "execution_count": 8,
   "id": "fed7edaa-672e-42be-ba8d-ea1dd2cdb03f",
   "metadata": {},
   "outputs": [],
   "source": [
    "ar = nlp.get_pipe('attribute_ruler')\n",
    "\n",
    "ar.add([[{\"TEXT\":\"Bro\"}],[{\"TEXT\":\"Brah\"}]],{\"LEMMA\":\"Brother\"})\n"
   ]
  },
  {
   "cell_type": "code",
   "execution_count": 9,
   "id": "7f5698cf-ede9-4f83-bc57-d76f6253ff09",
   "metadata": {},
   "outputs": [
    {
     "name": "stdout",
     "output_type": "stream",
     "text": [
      "Bro | Brother\n",
      ", | ,\n",
      "you | you\n",
      "wanna | wanna\n",
      "go | go\n",
      "? | ?\n",
      "Brah | Brother\n",
      ", | ,\n",
      "do | do\n",
      "n't | not\n",
      "say | say\n",
      "no | no\n",
      "! | !\n",
      "I | I\n",
      "am | be\n",
      "exhausted | exhaust\n"
     ]
    }
   ],
   "source": [
    "doc = nlp(\"Bro, you wanna go? Brah, don't say no! I am exhausted\")\n",
    "for token in doc:\n",
    "    print(token.text, \"|\", token.lemma_)"
   ]
  },
  {
   "cell_type": "code",
   "execution_count": 10,
   "id": "ab9efaa7-61c1-491e-83a5-b71ac07f7def",
   "metadata": {},
   "outputs": [
    {
     "data": {
      "text/plain": [
       "'Brother'"
      ]
     },
     "execution_count": 10,
     "metadata": {},
     "output_type": "execute_result"
    }
   ],
   "source": [
    "doc[6].lemma_"
   ]
  },
  {
   "cell_type": "code",
   "execution_count": null,
   "id": "78edbb7e-2d2c-4e10-942d-697e46a137d0",
   "metadata": {},
   "outputs": [],
   "source": []
  }
 ],
 "metadata": {
  "kernelspec": {
   "display_name": "Python 3 (ipykernel)",
   "language": "python",
   "name": "python3"
  },
  "language_info": {
   "codemirror_mode": {
    "name": "ipython",
    "version": 3
   },
   "file_extension": ".py",
   "mimetype": "text/x-python",
   "name": "python",
   "nbconvert_exporter": "python",
   "pygments_lexer": "ipython3",
   "version": "3.11.5"
  }
 },
 "nbformat": 4,
 "nbformat_minor": 5
}
